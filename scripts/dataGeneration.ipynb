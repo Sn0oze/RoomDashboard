{
 "cells": [
  {
   "cell_type": "markdown",
   "metadata": {},
   "source": [
    "# Data Generation"
   ]
  },
  {
   "cell_type": "code",
   "execution_count": 1,
   "metadata": {},
   "outputs": [],
   "source": [
    "from datetime import datetime, timedelta\n",
    "import json\n",
    "import random"
   ]
  },
  {
   "cell_type": "code",
   "execution_count": 2,
   "metadata": {},
   "outputs": [
    {
     "data": {
      "text/plain": [
       "'2020-02-16T09:21:03Z'"
      ]
     },
     "execution_count": 2,
     "metadata": {},
     "output_type": "execute_result"
    }
   ],
   "source": [
    "# mason, plumber, electrician, carpenter, painter\n",
    "trades = ['MA','PL', 'EL','CA', 'PA']\n",
    "today = datetime.utcnow()\n",
    "sim_start = today +timedelta(weeks=10, days=4)\n",
    "sim_start.strftime('%Y-%m-%dT%H:%M:%SZ')"
   ]
  },
  {
   "cell_type": "code",
   "execution_count": 3,
   "metadata": {},
   "outputs": [],
   "source": [
    "def number_of_rooms(max_rooms=6):\n",
    "    # length = random.randrange(3, max_rooms, 1)\n",
    "    # return range(0,length)\n",
    "    return 6"
   ]
  },
  {
   "cell_type": "code",
   "execution_count": 4,
   "metadata": {},
   "outputs": [],
   "source": [
    "def moc_deadlines(trades=[]):\n",
    "    offset = random.randrange(0, 7, 1)\n",
    "    start = datetime.utcnow() - timedelta(days=offset)\n",
    "    return [\n",
    "    (start + timedelta(weeks=index)).strftime('%Y-%m-%dT%H:%M:%SZ') \n",
    "     for index,trade in enumerate(trades)\n",
    "    ]"
   ]
  },
  {
   "cell_type": "code",
   "execution_count": 5,
   "metadata": {},
   "outputs": [],
   "source": [
    "def moc_room_pipeline(trades=[], deadlines=[]):\n",
    "    return [\n",
    "        {'tradesmen': trade, 'deadline': deadline} for trade, deadline in zip(trades,deadlines)\n",
    "    ] \n",
    "        "
   ]
  },
  {
   "cell_type": "code",
   "execution_count": 6,
   "metadata": {},
   "outputs": [],
   "source": [
    "def subset(trades=[]):\n",
    "    start = random.randrange(0, int(len(trades)*0.75)+1, 1)\n",
    "    return trades[start:]"
   ]
  },
  {
   "cell_type": "code",
   "execution_count": 7,
   "metadata": {},
   "outputs": [],
   "source": [
    "def generate_building_data(floors=5):\n",
    "    building_data = {}\n",
    "    for floor in range(10):\n",
    "        room_data = {}\n",
    "        for room in number_of_rooms():\n",
    "            trade_subset = subset(trades)\n",
    "            pipeline = moc_room_pipeline(trade_subset, moc_deadlines(trade_subset))\n",
    "            room_data[f'room_{floor}{room}'] = pipeline\n",
    "        building_data[f'floor_{floor}'] = room_data\n",
    "        \n",
    "    return building_data"
   ]
  },
  {
   "cell_type": "code",
   "execution_count": 8,
   "metadata": {},
   "outputs": [],
   "source": [
    "def deadlines(trades=[], offset = 0):\n",
    "    start = datetime.utcnow()\n",
    "    end = datetime.utcnow() + timedelta(weeks=1)\n",
    "    return [\n",
    "        {\n",
    "            'trade': trade,\n",
    "            'start': (start + timedelta(weeks=index + offset)).strftime('%Y-%m-%dT%H:%M:%SZ'), \n",
    "            'end': (end + timedelta(weeks=index+ offset)).strftime('%Y-%m-%dT%H:%M:%SZ'),\n",
    "            'done': sim_start >= end \n",
    "            \n",
    "        }\n",
    "        for index,trade in enumerate(trades)\n",
    "    ]"
   ]
  },
  {
   "cell_type": "code",
   "execution_count": null,
   "metadata": {},
   "outputs": [],
   "source": []
  },
  {
   "cell_type": "code",
   "execution_count": 9,
   "metadata": {},
   "outputs": [],
   "source": [
    "site_data = {}\n",
    "zones = 0\n",
    "for building in [\n",
    "    ('A1', 6, {'x': 0, 'y': 0, 'z': 0, 'rotation': 0}), \n",
    "    ('A2', 5, {'x': 15, 'y': 0, 'z': 5, 'rotation': 0}), \n",
    "    ('A3', 8, {'x': 15, 'y': 0, 'z': -15, 'rotation': 45})\n",
    "]:\n",
    "    name, floors, coords = building\n",
    "    building_data = {}\n",
    "    building = {}\n",
    "    for floor in range(floors):\n",
    "        floor_data = {}\n",
    "        for zone in range(2):\n",
    "            pipeline = deadlines(trades, zones)\n",
    "            zone_data = {\n",
    "                'pipeline': pipeline,\n",
    "                'zone': zone,\n",
    "                'zoneId': zones\n",
    "            }\n",
    "            floor_data[f'zone_{zone}'] = zone_data\n",
    "            zones += 1\n",
    "        building_data[f'floor_{floor}'] = floor_data\n",
    "        building = {\n",
    "            'coords': coords,\n",
    "            'data': building_data\n",
    "        }\n",
    "    site_data[name] = building\n",
    "    zones = 0"
   ]
  },
  {
   "cell_type": "code",
   "execution_count": 10,
   "metadata": {},
   "outputs": [],
   "source": [
    "with open('buildingDataV2.json', 'w') as json_file:\n",
    "    json.dump(site_data, json_file)"
   ]
  }
 ],
 "metadata": {
  "kernelspec": {
   "display_name": "Python 3",
   "language": "python",
   "name": "python3"
  },
  "language_info": {
   "codemirror_mode": {
    "name": "ipython",
    "version": 3
   },
   "file_extension": ".py",
   "mimetype": "text/x-python",
   "name": "python",
   "nbconvert_exporter": "python",
   "pygments_lexer": "ipython3",
   "version": "3.7.1"
  }
 },
 "nbformat": 4,
 "nbformat_minor": 2
}
