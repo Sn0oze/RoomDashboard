{
 "cells": [
  {
   "cell_type": "markdown",
   "metadata": {},
   "source": [
    "# Data Generation"
   ]
  },
  {
   "cell_type": "code",
   "execution_count": 1,
   "metadata": {},
   "outputs": [],
   "source": [
    "from datetime import datetime, timedelta\n",
    "import json\n",
    "import random"
   ]
  },
  {
   "cell_type": "code",
   "execution_count": 2,
   "metadata": {},
   "outputs": [],
   "source": [
    "trades = ['framing carpenter','plumber', 'electrician','paver', 'dry wall','finishing carpenter', 'painter']\n",
    "today = datetime.utcnow()"
   ]
  },
  {
   "cell_type": "code",
   "execution_count": 3,
   "metadata": {},
   "outputs": [],
   "source": [
    "def number_of_rooms(max_rooms=6):\n",
    "    # length = random.randrange(3, max_rooms, 1)\n",
    "    # return range(0,length)\n",
    "    return 6"
   ]
  },
  {
   "cell_type": "code",
   "execution_count": 4,
   "metadata": {},
   "outputs": [],
   "source": [
    "def moc_deadlines(trades=[]):\n",
    "    offset = random.randrange(0, 7, 1)\n",
    "    start = datetime.utcnow() - timedelta(days=offset)\n",
    "    return [\n",
    "    (start + timedelta(weeks=index)).strftime('%Y-%m-%dT%H:%M:%SZ') \n",
    "     for index,trade in enumerate(trades)\n",
    "    ]"
   ]
  },
  {
   "cell_type": "code",
   "execution_count": 5,
   "metadata": {},
   "outputs": [],
   "source": [
    "def moc_room_pipeline(trades=[], deadlines=[]):\n",
    "    return [\n",
    "        {'tradesmen': trade, 'deadline': deadline} for trade, deadline in zip(trades,deadlines)\n",
    "    ] \n",
    "        "
   ]
  },
  {
   "cell_type": "code",
   "execution_count": 6,
   "metadata": {},
   "outputs": [],
   "source": [
    "def subset(trades=[]):\n",
    "    start = random.randrange(0, int(len(trades)*0.75)+1, 1)\n",
    "    return trades[start:]"
   ]
  },
  {
   "cell_type": "code",
   "execution_count": 7,
   "metadata": {},
   "outputs": [],
   "source": [
    "def generate_building_data(floors=5):\n",
    "    building_data = {}\n",
    "    for floor in range(10):\n",
    "        room_data = {}\n",
    "        for room in number_of_rooms():\n",
    "            trade_subset = subset(trades)\n",
    "            pipeline = moc_room_pipeline(trade_subset, moc_deadlines(trade_subset))\n",
    "            room_data[f'room_{floor}{room}'] = pipeline\n",
    "        building_data[f'floor_{floor}'] = room_data\n",
    "        \n",
    "    return building_data"
   ]
  },
  {
   "cell_type": "code",
   "execution_count": 4,
   "metadata": {},
   "outputs": [
    {
     "name": "stdout",
     "output_type": "stream",
     "text": [
      "floor_0\n",
      "floor_1\n",
      "floor_2\n"
     ]
    }
   ],
   "source": [
    "data = {}\n",
    "buildings = [6,5,8]\n",
    "for index, building in enumerate(buildings):\n",
    "    print(f'floor_{index}')"
   ]
  },
  {
   "cell_type": "code",
   "execution_count": 8,
   "metadata": {},
   "outputs": [],
   "source": [
    "with open('buildingData.json', 'w') as json_file:\n",
    "    json.dump(building_data, json_file)"
   ]
  }
 ],
 "metadata": {
  "kernelspec": {
   "display_name": "Python 3",
   "language": "python",
   "name": "python3"
  },
  "language_info": {
   "codemirror_mode": {
    "name": "ipython",
    "version": 3
   },
   "file_extension": ".py",
   "mimetype": "text/x-python",
   "name": "python",
   "nbconvert_exporter": "python",
   "pygments_lexer": "ipython3",
   "version": "3.7.1"
  }
 },
 "nbformat": 4,
 "nbformat_minor": 2
}
