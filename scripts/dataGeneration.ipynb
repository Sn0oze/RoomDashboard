{
 "cells": [
  {
   "cell_type": "markdown",
   "metadata": {},
   "source": [
    "# Data Generation"
   ]
  },
  {
   "cell_type": "code",
   "execution_count": 1,
   "metadata": {},
   "outputs": [],
   "source": [
    "from datetime import datetime, timedelta\n",
    "import json\n",
    "import random"
   ]
  },
  {
   "cell_type": "code",
   "execution_count": 2,
   "metadata": {},
   "outputs": [],
   "source": [
    "trades = ['framing carpenter','electrician','plumber','finishing carpenter', 'painter', 'paver']\n",
    "today = datetime.utcnow()"
   ]
  },
  {
   "cell_type": "code",
   "execution_count": 3,
   "metadata": {},
   "outputs": [],
   "source": [
    "def number_of_rooms(max_rooms=6):\n",
    "    length = random.randrange(3, max_rooms, 1)\n",
    "    return range(0,length)"
   ]
  },
  {
   "cell_type": "code",
   "execution_count": 4,
   "metadata": {},
   "outputs": [],
   "source": [
    "def moc_deadlines(trades=[]):\n",
    "    return [\n",
    "    (datetime.utcnow() + timedelta(days=index)).strftime('%Y-%m-%dT%H:%M:%SZ') \n",
    "     for index,trade in enumerate(trades)\n",
    "    ]"
   ]
  },
  {
   "cell_type": "code",
   "execution_count": 5,
   "metadata": {},
   "outputs": [],
   "source": [
    "def moc_room_pipeline(trades=[], deadlines=[]):\n",
    "    return [\n",
    "        {'tradesmen': trade, 'deadliine': deadline} for trade, deadline in zip(trades,deadlines)\n",
    "    ] \n",
    "        "
   ]
  },
  {
   "cell_type": "code",
   "execution_count": 6,
   "metadata": {},
   "outputs": [],
   "source": [
    "def subset(trades=[]):\n",
    "    start = random.randrange(0, int(len(trades)*0.75)+1, 1)\n",
    "    return trades[start:]"
   ]
  },
  {
   "cell_type": "code",
   "execution_count": 7,
   "metadata": {},
   "outputs": [],
   "source": [
    "building_data = {}\n",
    "\n",
    "for floor in range(4):\n",
    "    room_data = {}\n",
    "    for room in number_of_rooms():\n",
    "        trade_subset = subset(trades)\n",
    "        pipeline = moc_room_pipeline(trade_subset, moc_deadlines(trade_subset))\n",
    "        room_data[f'room_{floor}{room}'] = pipeline\n",
    "    building_data[f'floor_{floor}'] = room_data"
   ]
  },
  {
   "cell_type": "code",
   "execution_count": 8,
   "metadata": {},
   "outputs": [],
   "source": [
    "with open('roomData.json', 'w') as json_file:\n",
    "    json.dump(building_data, json_file)"
   ]
  }
 ],
 "metadata": {
  "kernelspec": {
   "display_name": "Python 3",
   "language": "python",
   "name": "python3"
  },
  "language_info": {
   "codemirror_mode": {
    "name": "ipython",
    "version": 3
   },
   "file_extension": ".py",
   "mimetype": "text/x-python",
   "name": "python",
   "nbconvert_exporter": "python",
   "pygments_lexer": "ipython3",
   "version": "3.7.1"
  }
 },
 "nbformat": 4,
 "nbformat_minor": 2
}
